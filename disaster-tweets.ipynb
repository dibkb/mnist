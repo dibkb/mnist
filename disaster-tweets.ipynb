{
 "cells": [
  {
   "cell_type": "code",
   "execution_count": 1,
   "id": "3511b843",
   "metadata": {
    "_cell_guid": "b1076dfc-b9ad-4769-8c92-a6c4dae69d19",
    "_uuid": "8f2839f25d086af736a60e9eeb907d3b93b6e0e5",
    "execution": {
     "iopub.execute_input": "2024-04-12T06:50:58.271370Z",
     "iopub.status.busy": "2024-04-12T06:50:58.270700Z",
     "iopub.status.idle": "2024-04-12T06:50:58.284641Z",
     "shell.execute_reply": "2024-04-12T06:50:58.283666Z"
    },
    "papermill": {
     "duration": 0.031974,
     "end_time": "2024-04-12T06:50:58.286859",
     "exception": false,
     "start_time": "2024-04-12T06:50:58.254885",
     "status": "completed"
    },
    "tags": []
   },
   "outputs": [
    {
     "name": "stdout",
     "output_type": "stream",
     "text": [
      "/kaggle/input/nlp-getting-started/sample_submission.csv\n",
      "/kaggle/input/nlp-getting-started/train.csv\n",
      "/kaggle/input/nlp-getting-started/test.csv\n"
     ]
    }
   ],
   "source": [
    "import os\n",
    "for dirname, _, filenames in os.walk('/kaggle/input'):\n",
    "    for filename in filenames:\n",
    "        print(os.path.join(dirname, filename))"
   ]
  },
  {
   "cell_type": "code",
   "execution_count": 2,
   "id": "d89f50eb",
   "metadata": {
    "execution": {
     "iopub.execute_input": "2024-04-12T06:50:58.314753Z",
     "iopub.status.busy": "2024-04-12T06:50:58.314360Z",
     "iopub.status.idle": "2024-04-12T06:50:59.314425Z",
     "shell.execute_reply": "2024-04-12T06:50:59.313381Z"
    },
    "papermill": {
     "duration": 1.017028,
     "end_time": "2024-04-12T06:50:59.317135",
     "exception": false,
     "start_time": "2024-04-12T06:50:58.300107",
     "status": "completed"
    },
    "tags": []
   },
   "outputs": [
    {
     "name": "stdout",
     "output_type": "stream",
     "text": [
      "GPU 0: Tesla T4 (UUID: GPU-fd28b95a-8f53-2a42-8836-0f316c67dcd3)\r\n",
      "GPU 1: Tesla T4 (UUID: GPU-bd46f73b-445e-a909-ac1c-f38e9f037261)\r\n"
     ]
    }
   ],
   "source": [
    "# Check for GPU\n",
    "!nvidia-smi -L"
   ]
  },
  {
   "cell_type": "code",
   "execution_count": 3,
   "id": "cf63513f",
   "metadata": {
    "execution": {
     "iopub.execute_input": "2024-04-12T06:50:59.345543Z",
     "iopub.status.busy": "2024-04-12T06:50:59.345237Z",
     "iopub.status.idle": "2024-04-12T06:51:02.547467Z",
     "shell.execute_reply": "2024-04-12T06:51:02.546517Z"
    },
    "papermill": {
     "duration": 3.218853,
     "end_time": "2024-04-12T06:51:02.549367",
     "exception": false,
     "start_time": "2024-04-12T06:50:59.330514",
     "status": "completed"
    },
    "tags": []
   },
   "outputs": [
    {
     "name": "stderr",
     "output_type": "stream",
     "text": [
      "/tmp/ipykernel_24/1948985775.py:7: MatplotlibDeprecationWarning: The seaborn styles shipped by Matplotlib are deprecated since 3.6, as they no longer correspond to the styles shipped by seaborn. However, they will remain available as 'seaborn-v0_8-<style>'. Alternatively, directly use the seaborn API instead.\n",
      "  plt.style.use(\"seaborn-whitegrid\")\n"
     ]
    }
   ],
   "source": [
    "import numpy as np # linear algebra\n",
    "import pandas as pd # data processing, CSV file I/O (e.g. pd.read_csv)\n",
    "import matplotlib.pyplot as plt\n",
    "import seaborn as sns\n",
    "\n",
    "%matplotlib inline\n",
    "plt.style.use(\"seaborn-whitegrid\")"
   ]
  },
  {
   "cell_type": "code",
   "execution_count": 4,
   "id": "cfcbff75",
   "metadata": {
    "execution": {
     "iopub.execute_input": "2024-04-12T06:51:02.577989Z",
     "iopub.status.busy": "2024-04-12T06:51:02.577583Z",
     "iopub.status.idle": "2024-04-12T06:51:02.697144Z",
     "shell.execute_reply": "2024-04-12T06:51:02.696296Z"
    },
    "papermill": {
     "duration": 0.135301,
     "end_time": "2024-04-12T06:51:02.699023",
     "exception": false,
     "start_time": "2024-04-12T06:51:02.563722",
     "status": "completed"
    },
    "tags": []
   },
   "outputs": [
    {
     "data": {
      "text/html": [
       "<div>\n",
       "<style scoped>\n",
       "    .dataframe tbody tr th:only-of-type {\n",
       "        vertical-align: middle;\n",
       "    }\n",
       "\n",
       "    .dataframe tbody tr th {\n",
       "        vertical-align: top;\n",
       "    }\n",
       "\n",
       "    .dataframe thead th {\n",
       "        text-align: right;\n",
       "    }\n",
       "</style>\n",
       "<table border=\"1\" class=\"dataframe\">\n",
       "  <thead>\n",
       "    <tr style=\"text-align: right;\">\n",
       "      <th></th>\n",
       "      <th>id</th>\n",
       "      <th>keyword</th>\n",
       "      <th>location</th>\n",
       "      <th>text</th>\n",
       "      <th>target</th>\n",
       "    </tr>\n",
       "  </thead>\n",
       "  <tbody>\n",
       "    <tr>\n",
       "      <th>0</th>\n",
       "      <td>1</td>\n",
       "      <td>NaN</td>\n",
       "      <td>NaN</td>\n",
       "      <td>Our Deeds are the Reason of this #earthquake M...</td>\n",
       "      <td>1</td>\n",
       "    </tr>\n",
       "    <tr>\n",
       "      <th>1</th>\n",
       "      <td>4</td>\n",
       "      <td>NaN</td>\n",
       "      <td>NaN</td>\n",
       "      <td>Forest fire near La Ronge Sask. Canada</td>\n",
       "      <td>1</td>\n",
       "    </tr>\n",
       "    <tr>\n",
       "      <th>2</th>\n",
       "      <td>5</td>\n",
       "      <td>NaN</td>\n",
       "      <td>NaN</td>\n",
       "      <td>All residents asked to 'shelter in place' are ...</td>\n",
       "      <td>1</td>\n",
       "    </tr>\n",
       "    <tr>\n",
       "      <th>3</th>\n",
       "      <td>6</td>\n",
       "      <td>NaN</td>\n",
       "      <td>NaN</td>\n",
       "      <td>13,000 people receive #wildfires evacuation or...</td>\n",
       "      <td>1</td>\n",
       "    </tr>\n",
       "    <tr>\n",
       "      <th>4</th>\n",
       "      <td>7</td>\n",
       "      <td>NaN</td>\n",
       "      <td>NaN</td>\n",
       "      <td>Just got sent this photo from Ruby #Alaska as ...</td>\n",
       "      <td>1</td>\n",
       "    </tr>\n",
       "  </tbody>\n",
       "</table>\n",
       "</div>"
      ],
      "text/plain": [
       "   id keyword location                                               text  \\\n",
       "0   1     NaN      NaN  Our Deeds are the Reason of this #earthquake M...   \n",
       "1   4     NaN      NaN             Forest fire near La Ronge Sask. Canada   \n",
       "2   5     NaN      NaN  All residents asked to 'shelter in place' are ...   \n",
       "3   6     NaN      NaN  13,000 people receive #wildfires evacuation or...   \n",
       "4   7     NaN      NaN  Just got sent this photo from Ruby #Alaska as ...   \n",
       "\n",
       "   target  \n",
       "0       1  \n",
       "1       1  \n",
       "2       1  \n",
       "3       1  \n",
       "4       1  "
      ]
     },
     "execution_count": 4,
     "metadata": {},
     "output_type": "execute_result"
    }
   ],
   "source": [
    "train_df = pd.read_csv(\"/kaggle/input/nlp-getting-started/train.csv\")\n",
    "test_df = pd.read_csv(\"/kaggle/input/nlp-getting-started/test.csv\")\n",
    "train_df.head()"
   ]
  },
  {
   "cell_type": "code",
   "execution_count": 5,
   "id": "fbf55d7c",
   "metadata": {
    "execution": {
     "iopub.execute_input": "2024-04-12T06:51:02.727395Z",
     "iopub.status.busy": "2024-04-12T06:51:02.727114Z",
     "iopub.status.idle": "2024-04-12T06:51:02.732184Z",
     "shell.execute_reply": "2024-04-12T06:51:02.731143Z"
    },
    "papermill": {
     "duration": 0.021648,
     "end_time": "2024-04-12T06:51:02.734359",
     "exception": false,
     "start_time": "2024-04-12T06:51:02.712711",
     "status": "completed"
    },
    "tags": []
   },
   "outputs": [
    {
     "name": "stdout",
     "output_type": "stream",
     "text": [
      "Total training samples: 7613\n",
      "Total test samples: 3263\n",
      "Total samples: 10876\n"
     ]
    }
   ],
   "source": [
    "print(f\"Total training samples: {len(train_df)}\")\n",
    "print(f\"Total test samples: {len(test_df)}\")\n",
    "print(f\"Total samples: {len(train_df) + len(test_df)}\")"
   ]
  },
  {
   "cell_type": "code",
   "execution_count": 6,
   "id": "bbc30816",
   "metadata": {
    "execution": {
     "iopub.execute_input": "2024-04-12T06:51:02.762555Z",
     "iopub.status.busy": "2024-04-12T06:51:02.762323Z",
     "iopub.status.idle": "2024-04-12T06:51:03.089684Z",
     "shell.execute_reply": "2024-04-12T06:51:03.088832Z"
    },
    "papermill": {
     "duration": 0.343631,
     "end_time": "2024-04-12T06:51:03.091639",
     "exception": false,
     "start_time": "2024-04-12T06:51:02.748008",
     "status": "completed"
    },
    "tags": []
   },
   "outputs": [
    {
     "name": "stdout",
     "output_type": "stream",
     "text": [
      "Total no of disaster tweets:  4342\n",
      "Percent of disaster tweets:  57.03%\n",
      "\n",
      "\n",
      "Total no of non-disaster tweets:  3271\n",
      "Percent of non-disaster tweets:  42.97%\n"
     ]
    },
    {
     "data": {
      "image/png": "[encoded data removed]",
      "text/plain": [
       "<Figure size 640x480 with 1 Axes>"
      ]
     },
     "metadata": {},
     "output_type": "display_data"
    }
   ],
   "source": [
    "sns.countplot(train_df, x=\"target\")\n",
    "cnt = train_df['target'].value_counts()\n",
    "print(\"Total no of disaster tweets: \",cnt[0])\n",
    "print(\"Percent of disaster tweets: \",f'{cnt[0]/len(train_df)*100:.2f}%')\n",
    "print(\"\\n\")\n",
    "print(\"Total no of non-disaster tweets: \",cnt[1])\n",
    "print(\"Percent of non-disaster tweets: \",f'{cnt[1]/len(train_df)*100:.2f}%')"
   ]
  },
  {
   "cell_type": "code",
   "execution_count": 7,
   "id": "18ebbbe9",
   "metadata": {
    "execution": {
     "iopub.execute_input": "2024-04-12T06:51:03.120857Z",
     "iopub.status.busy": "2024-04-12T06:51:03.120530Z",
     "iopub.status.idle": "2024-04-12T06:51:03.127843Z",
     "shell.execute_reply": "2024-04-12T06:51:03.127015Z"
    },
    "papermill": {
     "duration": 0.024196,
     "end_time": "2024-04-12T06:51:03.129957",
     "exception": false,
     "start_time": "2024-04-12T06:51:03.105761",
     "status": "completed"
    },
    "tags": []
   },
   "outputs": [
    {
     "name": "stdout",
     "output_type": "stream",
     "text": [
      "Label  0 (not real disaster)\n",
      "Text \n",
      " Top link: Reddit's new content policy goes into effect many horrible subreddits banned or quarantined http://t.co/u9ao3A4oGC\n",
      "------------------------------------------ \n",
      "\n",
      "Label  0 (not real disaster)\n",
      "Text \n",
      " okay the cat has been quarantined in my bathroom...its meowing really loud but I turned up the TV louder...things just might work out okay\n",
      "------------------------------------------ \n",
      "\n",
      "Label  1 (real disaster)\n",
      "Text \n",
      " Reddit Will Now QuarantineÛ_ http://t.co/pkUAMXw6pm #onlinecommunities #reddit #amageddon #freespeech #Business http://t.co/PAWvNJ4sAP\n",
      "------------------------------------------ \n",
      "\n",
      "Label  1 (real disaster)\n",
      "Text \n",
      " California cops have sketch of gunman who killed one wounded two deputies via the @FoxNews app http://t.co/3Ife1zsop7\n",
      "------------------------------------------ \n",
      "\n",
      "Label  1 (real disaster)\n",
      "Text \n",
      " Pendleton media office said only fire on base right now is the Horno blaze.\n",
      "------------------------------------------ \n",
      "\n",
      "Label  0 (not real disaster)\n",
      "Text \n",
      " Please stand up for bees against profit-hungry chemical companies. Keep the ban &amp; #Savebees \n",
      "Sign the petition now:\n",
      "https://t.co/4zsXjGV7iT\n",
      "------------------------------------------ \n",
      "\n"
     ]
    }
   ],
   "source": [
    "import random\n",
    "start_range = 0\n",
    "end_range = len(train_df)\n",
    "random_list = list(random.sample(range(start_range, end_range + 1), 6))\n",
    "for i in random_list:\n",
    "    row = train_df.iloc[i]\n",
    "    print(\"Label \", row['target'], \"(real disaster)\" if row['target'] == 1 else \"(not real disaster)\")\n",
    "    print(\"Text \\n\",row['text'])\n",
    "    print(\"--\"*21,'\\n')\n",
    "    "
   ]
  },
  {
   "cell_type": "code",
   "execution_count": 8,
   "id": "f13fd6b1",
   "metadata": {
    "execution": {
     "iopub.execute_input": "2024-04-12T06:51:03.159000Z",
     "iopub.status.busy": "2024-04-12T06:51:03.158696Z",
     "iopub.status.idle": "2024-04-12T06:51:03.166401Z",
     "shell.execute_reply": "2024-04-12T06:51:03.165532Z"
    },
    "papermill": {
     "duration": 0.024283,
     "end_time": "2024-04-12T06:51:03.168300",
     "exception": false,
     "start_time": "2024-04-12T06:51:03.144017",
     "status": "completed"
    },
    "tags": []
   },
   "outputs": [
    {
     "data": {
      "text/plain": [
       "id                                               4\n",
       "keyword                                        NaN\n",
       "location                                       NaN\n",
       "text        Forest fire near La Ronge Sask. Canada\n",
       "target                                           1\n",
       "Name: 1, dtype: object"
      ]
     },
     "execution_count": 8,
     "metadata": {},
     "output_type": "execute_result"
    }
   ],
   "source": [
    "train_df.iloc[1]"
   ]
  },
  {
   "cell_type": "markdown",
   "id": "caa71f9f",
   "metadata": {
    "papermill": {
     "duration": 0.01435,
     "end_time": "2024-04-12T06:51:03.197837",
     "exception": false,
     "start_time": "2024-04-12T06:51:03.183487",
     "status": "completed"
    },
    "tags": []
   },
   "source": [
    "#### Number of characters present in each tweet"
   ]
  },
  {
   "cell_type": "code",
   "execution_count": 9,
   "id": "619d2c23",
   "metadata": {
    "execution": {
     "iopub.execute_input": "2024-04-12T06:51:03.228014Z",
     "iopub.status.busy": "2024-04-12T06:51:03.227737Z",
     "iopub.status.idle": "2024-04-12T06:51:03.530950Z",
     "shell.execute_reply": "2024-04-12T06:51:03.530024Z"
    },
    "papermill": {
     "duration": 0.320599,
     "end_time": "2024-04-12T06:51:03.532920",
     "exception": false,
     "start_time": "2024-04-12T06:51:03.212321",
     "status": "completed"
    },
    "tags": []
   },
   "outputs": [
    {
     "data": {
      "text/plain": [
       "<Axes: >"
      ]
     },
     "execution_count": 9,
     "metadata": {},
     "output_type": "execute_result"
    },
    {
     "data": {
      "image/png": "[encoded data removed]",
      "text/plain": [
       "<Figure size 640x480 with 1 Axes>"
      ]
     },
     "metadata": {},
     "output_type": "display_data"
    }
   ],
   "source": [
    "train_df['text'].str.len().hist()"
   ]
  },
  {
   "cell_type": "code",
   "execution_count": 10,
   "id": "166afa11",
   "metadata": {
    "execution": {
     "iopub.execute_input": "2024-04-12T06:51:03.563739Z",
     "iopub.status.busy": "2024-04-12T06:51:03.562920Z",
     "iopub.status.idle": "2024-04-12T06:51:03.572427Z",
     "shell.execute_reply": "2024-04-12T06:51:03.571591Z"
    },
    "papermill": {
     "duration": 0.026518,
     "end_time": "2024-04-12T06:51:03.574303",
     "exception": false,
     "start_time": "2024-04-12T06:51:03.547785",
     "status": "completed"
    },
    "tags": []
   },
   "outputs": [],
   "source": [
    "train_df['char_len'] = train_df['text'].apply(len)"
   ]
  },
  {
   "cell_type": "code",
   "execution_count": 11,
   "id": "9d992e45",
   "metadata": {
    "execution": {
     "iopub.execute_input": "2024-04-12T06:51:03.604824Z",
     "iopub.status.busy": "2024-04-12T06:51:03.604121Z",
     "iopub.status.idle": "2024-04-12T06:51:03.619367Z",
     "shell.execute_reply": "2024-04-12T06:51:03.618553Z"
    },
    "papermill": {
     "duration": 0.032172,
     "end_time": "2024-04-12T06:51:03.621253",
     "exception": false,
     "start_time": "2024-04-12T06:51:03.589081",
     "status": "completed"
    },
    "tags": []
   },
   "outputs": [
    {
     "data": {
      "text/html": [
       "<div>\n",
       "<style scoped>\n",
       "    .dataframe tbody tr th:only-of-type {\n",
       "        vertical-align: middle;\n",
       "    }\n",
       "\n",
       "    .dataframe tbody tr th {\n",
       "        vertical-align: top;\n",
       "    }\n",
       "\n",
       "    .dataframe thead th {\n",
       "        text-align: right;\n",
       "    }\n",
       "</style>\n",
       "<table border=\"1\" class=\"dataframe\">\n",
       "  <thead>\n",
       "    <tr style=\"text-align: right;\">\n",
       "      <th></th>\n",
       "      <th>id</th>\n",
       "      <th>keyword</th>\n",
       "      <th>location</th>\n",
       "      <th>text</th>\n",
       "      <th>target</th>\n",
       "      <th>char_len</th>\n",
       "    </tr>\n",
       "  </thead>\n",
       "  <tbody>\n",
       "    <tr>\n",
       "      <th>0</th>\n",
       "      <td>1</td>\n",
       "      <td>NaN</td>\n",
       "      <td>NaN</td>\n",
       "      <td>Our Deeds are the Reason of this #earthquake M...</td>\n",
       "      <td>1</td>\n",
       "      <td>69</td>\n",
       "    </tr>\n",
       "    <tr>\n",
       "      <th>1</th>\n",
       "      <td>4</td>\n",
       "      <td>NaN</td>\n",
       "      <td>NaN</td>\n",
       "      <td>Forest fire near La Ronge Sask. Canada</td>\n",
       "      <td>1</td>\n",
       "      <td>38</td>\n",
       "    </tr>\n",
       "    <tr>\n",
       "      <th>2</th>\n",
       "      <td>5</td>\n",
       "      <td>NaN</td>\n",
       "      <td>NaN</td>\n",
       "      <td>All residents asked to 'shelter in place' are ...</td>\n",
       "      <td>1</td>\n",
       "      <td>133</td>\n",
       "    </tr>\n",
       "    <tr>\n",
       "      <th>3</th>\n",
       "      <td>6</td>\n",
       "      <td>NaN</td>\n",
       "      <td>NaN</td>\n",
       "      <td>13,000 people receive #wildfires evacuation or...</td>\n",
       "      <td>1</td>\n",
       "      <td>65</td>\n",
       "    </tr>\n",
       "    <tr>\n",
       "      <th>4</th>\n",
       "      <td>7</td>\n",
       "      <td>NaN</td>\n",
       "      <td>NaN</td>\n",
       "      <td>Just got sent this photo from Ruby #Alaska as ...</td>\n",
       "      <td>1</td>\n",
       "      <td>88</td>\n",
       "    </tr>\n",
       "    <tr>\n",
       "      <th>...</th>\n",
       "      <td>...</td>\n",
       "      <td>...</td>\n",
       "      <td>...</td>\n",
       "      <td>...</td>\n",
       "      <td>...</td>\n",
       "      <td>...</td>\n",
       "    </tr>\n",
       "    <tr>\n",
       "      <th>7608</th>\n",
       "      <td>10869</td>\n",
       "      <td>NaN</td>\n",
       "      <td>NaN</td>\n",
       "      <td>Two giant cranes holding a bridge collapse int...</td>\n",
       "      <td>1</td>\n",
       "      <td>83</td>\n",
       "    </tr>\n",
       "    <tr>\n",
       "      <th>7609</th>\n",
       "      <td>10870</td>\n",
       "      <td>NaN</td>\n",
       "      <td>NaN</td>\n",
       "      <td>@aria_ahrary @TheTawniest The out of control w...</td>\n",
       "      <td>1</td>\n",
       "      <td>125</td>\n",
       "    </tr>\n",
       "    <tr>\n",
       "      <th>7610</th>\n",
       "      <td>10871</td>\n",
       "      <td>NaN</td>\n",
       "      <td>NaN</td>\n",
       "      <td>M1.94 [01:04 UTC]?5km S of Volcano Hawaii. htt...</td>\n",
       "      <td>1</td>\n",
       "      <td>65</td>\n",
       "    </tr>\n",
       "    <tr>\n",
       "      <th>7611</th>\n",
       "      <td>10872</td>\n",
       "      <td>NaN</td>\n",
       "      <td>NaN</td>\n",
       "      <td>Police investigating after an e-bike collided ...</td>\n",
       "      <td>1</td>\n",
       "      <td>137</td>\n",
       "    </tr>\n",
       "    <tr>\n",
       "      <th>7612</th>\n",
       "      <td>10873</td>\n",
       "      <td>NaN</td>\n",
       "      <td>NaN</td>\n",
       "      <td>The Latest: More Homes Razed by Northern Calif...</td>\n",
       "      <td>1</td>\n",
       "      <td>94</td>\n",
       "    </tr>\n",
       "  </tbody>\n",
       "</table>\n",
       "<p>7613 rows × 6 columns</p>\n",
       "</div>"
      ],
      "text/plain": [
       "         id keyword location  \\\n",
       "0         1     NaN      NaN   \n",
       "1         4     NaN      NaN   \n",
       "2         5     NaN      NaN   \n",
       "3         6     NaN      NaN   \n",
       "4         7     NaN      NaN   \n",
       "...     ...     ...      ...   \n",
       "7608  10869     NaN      NaN   \n",
       "7609  10870     NaN      NaN   \n",
       "7610  10871     NaN      NaN   \n",
       "7611  10872     NaN      NaN   \n",
       "7612  10873     NaN      NaN   \n",
       "\n",
       "                                                   text  target  char_len  \n",
       "0     Our Deeds are the Reason of this #earthquake M...       1        69  \n",
       "1                Forest fire near La Ronge Sask. Canada       1        38  \n",
       "2     All residents asked to 'shelter in place' are ...       1       133  \n",
       "3     13,000 people receive #wildfires evacuation or...       1        65  \n",
       "4     Just got sent this photo from Ruby #Alaska as ...       1        88  \n",
       "...                                                 ...     ...       ...  \n",
       "7608  Two giant cranes holding a bridge collapse int...       1        83  \n",
       "7609  @aria_ahrary @TheTawniest The out of control w...       1       125  \n",
       "7610  M1.94 [01:04 UTC]?5km S of Volcano Hawaii. htt...       1        65  \n",
       "7611  Police investigating after an e-bike collided ...       1       137  \n",
       "7612  The Latest: More Homes Razed by Northern Calif...       1        94  \n",
       "\n",
       "[7613 rows x 6 columns]"
      ]
     },
     "execution_count": 11,
     "metadata": {},
     "output_type": "execute_result"
    }
   ],
   "source": [
    "train_df"
   ]
  },
  {
   "cell_type": "code",
   "execution_count": 12,
   "id": "ba86a502",
   "metadata": {
    "execution": {
     "iopub.execute_input": "2024-04-12T06:51:03.652188Z",
     "iopub.status.busy": "2024-04-12T06:51:03.651713Z",
     "iopub.status.idle": "2024-04-12T06:51:04.068972Z",
     "shell.execute_reply": "2024-04-12T06:51:04.067796Z"
    },
    "papermill": {
     "duration": 0.43496,
     "end_time": "2024-04-12T06:51:04.071093",
     "exception": false,
     "start_time": "2024-04-12T06:51:03.636133",
     "status": "completed"
    },
    "tags": []
   },
   "outputs": [
    {
     "data": {
      "text/plain": [
       "Text(0.5, 1.0, 'Disaster tweets')"
      ]
     },
     "execution_count": 12,
     "metadata": {},
     "output_type": "execute_result"
    },
    {
     "data": {
      "image/png": "[encoded data removed]",
      "text/plain": [
       "<Figure size 1200x600 with 1 Axes>"
      ]
     },
     "metadata": {},
     "output_type": "display_data"
    }
   ],
   "source": [
    "plt.figure(figsize=(12, 6))\n",
    "train_df[train_df['target']==1]['char_len'].plot(bins=35, kind='hist', color='red',alpha=.5)\n",
    "plt.legend()\n",
    "plt.xlabel(\"Character length\")\n",
    "plt.title(\"Disaster tweets\")"
   ]
  },
  {
   "cell_type": "code",
   "execution_count": 13,
   "id": "6069fe0f",
   "metadata": {
    "execution": {
     "iopub.execute_input": "2024-04-12T06:51:04.103636Z",
     "iopub.status.busy": "2024-04-12T06:51:04.102828Z",
     "iopub.status.idle": "2024-04-12T06:51:04.527817Z",
     "shell.execute_reply": "2024-04-12T06:51:04.526771Z"
    },
    "papermill": {
     "duration": 0.4432,
     "end_time": "2024-04-12T06:51:04.529769",
     "exception": false,
     "start_time": "2024-04-12T06:51:04.086569",
     "status": "completed"
    },
    "tags": []
   },
   "outputs": [
    {
     "data": {
      "text/plain": [
       "Text(0.5, 1.0, 'Non Disaster tweets')"
      ]
     },
     "execution_count": 13,
     "metadata": {},
     "output_type": "execute_result"
    },
    {
     "data": {
      "image/png": "[encoded data removed]",
      "text/plain": [
       "<Figure size 1200x600 with 1 Axes>"
      ]
     },
     "metadata": {},
     "output_type": "display_data"
    }
   ],
   "source": [
    "plt.figure(figsize=(12, 6))\n",
    "train_df[train_df['target']==0]['char_len'].plot(bins=35, kind='hist', color='blue',alpha=.5)\n",
    "plt.legend()\n",
    "plt.xlabel(\"Character length\")\n",
    "plt.title(\"Non Disaster tweets\")"
   ]
  },
  {
   "cell_type": "markdown",
   "id": "accc2733",
   "metadata": {
    "papermill": {
     "duration": 0.015731,
     "end_time": "2024-04-12T06:51:04.561998",
     "exception": false,
     "start_time": "2024-04-12T06:51:04.546267",
     "status": "completed"
    },
    "tags": []
   },
   "source": [
    "#### Number of words present in each tweet"
   ]
  },
  {
   "cell_type": "code",
   "execution_count": 14,
   "id": "e3676379",
   "metadata": {
    "execution": {
     "iopub.execute_input": "2024-04-12T06:51:04.594466Z",
     "iopub.status.busy": "2024-04-12T06:51:04.594192Z",
     "iopub.status.idle": "2024-04-12T06:51:04.622713Z",
     "shell.execute_reply": "2024-04-12T06:51:04.621876Z"
    },
    "papermill": {
     "duration": 0.04693,
     "end_time": "2024-04-12T06:51:04.624591",
     "exception": false,
     "start_time": "2024-04-12T06:51:04.577661",
     "status": "completed"
    },
    "tags": []
   },
   "outputs": [],
   "source": [
    "train_df['word_len'] = train_df['text'].str.split().map(lambda x: len(x))"
   ]
  },
  {
   "cell_type": "code",
   "execution_count": 15,
   "id": "ec1ec7b1",
   "metadata": {
    "execution": {
     "iopub.execute_input": "2024-04-12T06:51:04.657219Z",
     "iopub.status.busy": "2024-04-12T06:51:04.656740Z",
     "iopub.status.idle": "2024-04-12T06:51:04.953463Z",
     "shell.execute_reply": "2024-04-12T06:51:04.952518Z"
    },
    "papermill": {
     "duration": 0.315173,
     "end_time": "2024-04-12T06:51:04.955386",
     "exception": false,
     "start_time": "2024-04-12T06:51:04.640213",
     "status": "completed"
    },
    "tags": []
   },
   "outputs": [
    {
     "data": {
      "text/plain": [
       "<Axes: >"
      ]
     },
     "execution_count": 15,
     "metadata": {},
     "output_type": "execute_result"
    },
    {
     "data": {
      "image/png": "[encoded data removed]",
      "text/plain": [
       "<Figure size 640x480 with 1 Axes>"
      ]
     },
     "metadata": {},
     "output_type": "display_data"
    }
   ],
   "source": [
    "train_df['text'].str.split().map(lambda x: len(x)).hist()"
   ]
  },
  {
   "cell_type": "code",
   "execution_count": 16,
   "id": "d99dc0f4",
   "metadata": {
    "execution": {
     "iopub.execute_input": "2024-04-12T06:51:04.989626Z",
     "iopub.status.busy": "2024-04-12T06:51:04.989364Z",
     "iopub.status.idle": "2024-04-12T06:51:05.389876Z",
     "shell.execute_reply": "2024-04-12T06:51:05.388970Z"
    },
    "papermill": {
     "duration": 0.419885,
     "end_time": "2024-04-12T06:51:05.391931",
     "exception": false,
     "start_time": "2024-04-12T06:51:04.972046",
     "status": "completed"
    },
    "tags": []
   },
   "outputs": [
    {
     "data": {
      "text/plain": [
       "Text(0.5, 1.0, 'Disaster tweets')"
      ]
     },
     "execution_count": 16,
     "metadata": {},
     "output_type": "execute_result"
    },
    {
     "data": {
      "image/png": "[encoded data removed]",
      "text/plain": [
       "<Figure size 1200x600 with 1 Axes>"
      ]
     },
     "metadata": {},
     "output_type": "display_data"
    }
   ],
   "source": [
    "plt.figure(figsize=(12, 6))\n",
    "train_df[train_df['target']==1]['word_len'].plot(bins=35, kind='hist', color='red',alpha=0.5)\n",
    "plt.legend()\n",
    "plt.xlabel(\"Character length\")\n",
    "plt.title(\"Disaster tweets\")"
   ]
  },
  {
   "cell_type": "code",
   "execution_count": 17,
   "id": "79f174d7",
   "metadata": {
    "execution": {
     "iopub.execute_input": "2024-04-12T06:51:05.427522Z",
     "iopub.status.busy": "2024-04-12T06:51:05.427255Z",
     "iopub.status.idle": "2024-04-12T06:51:05.843065Z",
     "shell.execute_reply": "2024-04-12T06:51:05.842101Z"
    },
    "papermill": {
     "duration": 0.436294,
     "end_time": "2024-04-12T06:51:05.845331",
     "exception": false,
     "start_time": "2024-04-12T06:51:05.409037",
     "status": "completed"
    },
    "tags": []
   },
   "outputs": [
    {
     "data": {
      "text/plain": [
       "Text(0.5, 1.0, 'Non Disaster tweets')"
      ]
     },
     "execution_count": 17,
     "metadata": {},
     "output_type": "execute_result"
    },
    {
     "data": {
      "image/png": "[encoded data removed]",
      "text/plain": [
       "<Figure size 1200x600 with 1 Axes>"
      ]
     },
     "metadata": {},
     "output_type": "display_data"
    }
   ],
   "source": [
    "plt.figure(figsize=(12, 6))\n",
    "train_df[train_df['target']==0]['word_len'].plot(bins=35, kind='hist', color='blue',alpha=0.5)\n",
    "plt.legend()\n",
    "plt.xlabel(\"Character length\")\n",
    "plt.title(\"Non Disaster tweets\")"
   ]
  },
  {
   "cell_type": "markdown",
   "id": "618cc65a",
   "metadata": {
    "papermill": {
     "duration": 0.017205,
     "end_time": "2024-04-12T06:51:05.880076",
     "exception": false,
     "start_time": "2024-04-12T06:51:05.862871",
     "status": "completed"
    },
    "tags": []
   },
   "source": [
    "#### Descriptive Statistics"
   ]
  },
  {
   "cell_type": "code",
   "execution_count": 18,
   "id": "fb5b0c61",
   "metadata": {
    "execution": {
     "iopub.execute_input": "2024-04-12T06:51:05.915481Z",
     "iopub.status.busy": "2024-04-12T06:51:05.915192Z",
     "iopub.status.idle": "2024-04-12T06:51:05.939766Z",
     "shell.execute_reply": "2024-04-12T06:51:05.938801Z"
    },
    "papermill": {
     "duration": 0.04448,
     "end_time": "2024-04-12T06:51:05.941728",
     "exception": false,
     "start_time": "2024-04-12T06:51:05.897248",
     "status": "completed"
    },
    "tags": []
   },
   "outputs": [
    {
     "name": "stdout",
     "output_type": "stream",
     "text": [
      "Disaster tweets \n",
      "\n"
     ]
    },
    {
     "data": {
      "text/html": [
       "<div>\n",
       "<style scoped>\n",
       "    .dataframe tbody tr th:only-of-type {\n",
       "        vertical-align: middle;\n",
       "    }\n",
       "\n",
       "    .dataframe tbody tr th {\n",
       "        vertical-align: top;\n",
       "    }\n",
       "\n",
       "    .dataframe thead th {\n",
       "        text-align: right;\n",
       "    }\n",
       "</style>\n",
       "<table border=\"1\" class=\"dataframe\">\n",
       "  <thead>\n",
       "    <tr style=\"text-align: right;\">\n",
       "      <th></th>\n",
       "      <th>count</th>\n",
       "      <th>mean</th>\n",
       "      <th>std</th>\n",
       "      <th>min</th>\n",
       "      <th>25%</th>\n",
       "      <th>50%</th>\n",
       "      <th>75%</th>\n",
       "      <th>max</th>\n",
       "    </tr>\n",
       "  </thead>\n",
       "  <tbody>\n",
       "    <tr>\n",
       "      <th>char_len</th>\n",
       "      <td>3271.0</td>\n",
       "      <td>108.113421</td>\n",
       "      <td>29.309854</td>\n",
       "      <td>14.0</td>\n",
       "      <td>88.0</td>\n",
       "      <td>115.0</td>\n",
       "      <td>136.0</td>\n",
       "      <td>151.0</td>\n",
       "    </tr>\n",
       "    <tr>\n",
       "      <th>word_len</th>\n",
       "      <td>3271.0</td>\n",
       "      <td>15.167533</td>\n",
       "      <td>5.096806</td>\n",
       "      <td>2.0</td>\n",
       "      <td>11.0</td>\n",
       "      <td>15.0</td>\n",
       "      <td>19.0</td>\n",
       "      <td>30.0</td>\n",
       "    </tr>\n",
       "  </tbody>\n",
       "</table>\n",
       "</div>"
      ],
      "text/plain": [
       "           count        mean        std   min   25%    50%    75%    max\n",
       "char_len  3271.0  108.113421  29.309854  14.0  88.0  115.0  136.0  151.0\n",
       "word_len  3271.0   15.167533   5.096806   2.0  11.0   15.0   19.0   30.0"
      ]
     },
     "execution_count": 18,
     "metadata": {},
     "output_type": "execute_result"
    }
   ],
   "source": [
    "print(\"Disaster tweets \\n\")\n",
    "train_df[['char_len', 'word_len']][train_df.target==1].describe().T"
   ]
  },
  {
   "cell_type": "code",
   "execution_count": 19,
   "id": "66d3e29f",
   "metadata": {
    "execution": {
     "iopub.execute_input": "2024-04-12T06:51:06.017088Z",
     "iopub.status.busy": "2024-04-12T06:51:06.016774Z",
     "iopub.status.idle": "2024-04-12T06:51:06.037154Z",
     "shell.execute_reply": "2024-04-12T06:51:06.036288Z"
    },
    "papermill": {
     "duration": 0.078759,
     "end_time": "2024-04-12T06:51:06.039279",
     "exception": false,
     "start_time": "2024-04-12T06:51:05.960520",
     "status": "completed"
    },
    "tags": []
   },
   "outputs": [
    {
     "name": "stdout",
     "output_type": "stream",
     "text": [
      "Non Disaster tweets \n",
      "\n"
     ]
    },
    {
     "data": {
      "text/html": [
       "<div>\n",
       "<style scoped>\n",
       "    .dataframe tbody tr th:only-of-type {\n",
       "        vertical-align: middle;\n",
       "    }\n",
       "\n",
       "    .dataframe tbody tr th {\n",
       "        vertical-align: top;\n",
       "    }\n",
       "\n",
       "    .dataframe thead th {\n",
       "        text-align: right;\n",
       "    }\n",
       "</style>\n",
       "<table border=\"1\" class=\"dataframe\">\n",
       "  <thead>\n",
       "    <tr style=\"text-align: right;\">\n",
       "      <th></th>\n",
       "      <th>count</th>\n",
       "      <th>mean</th>\n",
       "      <th>std</th>\n",
       "      <th>min</th>\n",
       "      <th>25%</th>\n",
       "      <th>50%</th>\n",
       "      <th>75%</th>\n",
       "      <th>max</th>\n",
       "    </tr>\n",
       "  </thead>\n",
       "  <tbody>\n",
       "    <tr>\n",
       "      <th>char_len</th>\n",
       "      <td>4342.0</td>\n",
       "      <td>95.706817</td>\n",
       "      <td>35.885924</td>\n",
       "      <td>7.0</td>\n",
       "      <td>68.0</td>\n",
       "      <td>101.0</td>\n",
       "      <td>130.0</td>\n",
       "      <td>157.0</td>\n",
       "    </tr>\n",
       "    <tr>\n",
       "      <th>word_len</th>\n",
       "      <td>4342.0</td>\n",
       "      <td>14.704744</td>\n",
       "      <td>6.161564</td>\n",
       "      <td>1.0</td>\n",
       "      <td>10.0</td>\n",
       "      <td>15.0</td>\n",
       "      <td>19.0</td>\n",
       "      <td>31.0</td>\n",
       "    </tr>\n",
       "  </tbody>\n",
       "</table>\n",
       "</div>"
      ],
      "text/plain": [
       "           count       mean        std  min   25%    50%    75%    max\n",
       "char_len  4342.0  95.706817  35.885924  7.0  68.0  101.0  130.0  157.0\n",
       "word_len  4342.0  14.704744   6.161564  1.0  10.0   15.0   19.0   31.0"
      ]
     },
     "execution_count": 19,
     "metadata": {},
     "output_type": "execute_result"
    }
   ],
   "source": [
    "print(\"Non Disaster tweets \\n\")\n",
    "train_df[['char_len', 'word_len']][train_df.target==0].describe().T"
   ]
  },
  {
   "cell_type": "code",
   "execution_count": 20,
   "id": "b6231c46",
   "metadata": {
    "execution": {
     "iopub.execute_input": "2024-04-12T06:51:06.077534Z",
     "iopub.status.busy": "2024-04-12T06:51:06.077025Z",
     "iopub.status.idle": "2024-04-12T06:51:06.089934Z",
     "shell.execute_reply": "2024-04-12T06:51:06.088813Z"
    },
    "papermill": {
     "duration": 0.033665,
     "end_time": "2024-04-12T06:51:06.091883",
     "exception": false,
     "start_time": "2024-04-12T06:51:06.058218",
     "status": "completed"
    },
    "tags": []
   },
   "outputs": [
    {
     "name": "stdout",
     "output_type": "stream",
     "text": [
      "Disaster tweets that contains a link in the text body  134 \n",
      "\n",
      "Non Disaster tweets that contains a link in the text body  273 \n",
      "\n"
     ]
    }
   ],
   "source": [
    "train_df['contains_link'] = train_df['text'].str.contains(\"https\")\n",
    "contains_link = train_df[(train_df[\"contains_link\"] == True)]['target'].value_counts()\n",
    "print(\"Disaster tweets that contains a link in the text body \", contains_link[1],'\\n')\n",
    "print(\"Non Disaster tweets that contains a link in the text body \", contains_link[0],'\\n')"
   ]
  },
  {
   "cell_type": "markdown",
   "id": "dc9e5f4f",
   "metadata": {
    "papermill": {
     "duration": 0.018234,
     "end_time": "2024-04-12T06:51:06.128212",
     "exception": false,
     "start_time": "2024-04-12T06:51:06.109978",
     "status": "completed"
    },
    "tags": []
   },
   "source": [
    "#### Stop words"
   ]
  },
  {
   "cell_type": "code",
   "execution_count": 21,
   "id": "0502229b",
   "metadata": {
    "execution": {
     "iopub.execute_input": "2024-04-12T06:51:06.165745Z",
     "iopub.status.busy": "2024-04-12T06:51:06.165460Z",
     "iopub.status.idle": "2024-04-12T06:51:07.686664Z",
     "shell.execute_reply": "2024-04-12T06:51:07.685593Z"
    },
    "papermill": {
     "duration": 1.541911,
     "end_time": "2024-04-12T06:51:07.688695",
     "exception": false,
     "start_time": "2024-04-12T06:51:06.146784",
     "status": "completed"
    },
    "tags": []
   },
   "outputs": [
    {
     "name": "stdout",
     "output_type": "stream",
     "text": [
      "[nltk_data] Downloading package stopwords to /usr/share/nltk_data...\n",
      "[nltk_data]   Package stopwords is already up-to-date!\n"
     ]
    }
   ],
   "source": [
    "import nltk\n",
    "nltk.download('stopwords')\n",
    "from nltk.corpus import stopwords\n",
    "stop=set(stopwords.words('english'))"
   ]
  },
  {
   "cell_type": "code",
   "execution_count": 22,
   "id": "8acd7a8e",
   "metadata": {
    "execution": {
     "iopub.execute_input": "2024-04-12T06:51:07.727727Z",
     "iopub.status.busy": "2024-04-12T06:51:07.727257Z",
     "iopub.status.idle": "2024-04-12T06:51:07.809305Z",
     "shell.execute_reply": "2024-04-12T06:51:07.808438Z"
    },
    "papermill": {
     "duration": 0.103912,
     "end_time": "2024-04-12T06:51:07.811347",
     "exception": false,
     "start_time": "2024-04-12T06:51:07.707435",
     "status": "completed"
    },
    "tags": []
   },
   "outputs": [],
   "source": [
    "corpus=[]\n",
    "text = train_df['text'].str.split()\n",
    "text = text.values.tolist()\n",
    "corpus=[word for i in text for word in i]\n",
    "\n",
    "from collections import defaultdict\n",
    "dic=defaultdict(int)\n",
    "non_dic=defaultdict(int)\n",
    "for word in corpus:\n",
    "    if word in stop:\n",
    "        dic[word]+=1\n",
    "    if word not in stop:\n",
    "        non_dic[word]+=1"
   ]
  },
  {
   "cell_type": "code",
   "execution_count": 23,
   "id": "8c3a2da8",
   "metadata": {
    "execution": {
     "iopub.execute_input": "2024-04-12T06:51:07.848936Z",
     "iopub.status.busy": "2024-04-12T06:51:07.848628Z",
     "iopub.status.idle": "2024-04-12T06:51:07.877823Z",
     "shell.execute_reply": "2024-04-12T06:51:07.876970Z"
    },
    "papermill": {
     "duration": 0.049978,
     "end_time": "2024-04-12T06:51:07.879721",
     "exception": false,
     "start_time": "2024-04-12T06:51:07.829743",
     "status": "completed"
    },
    "tags": []
   },
   "outputs": [],
   "source": [
    "stop_words_cnt = pd.DataFrame(list(dic.items()), columns=['word', 'count'])\n",
    "nonstop_words_cnt = pd.DataFrame(list(non_dic.items()), columns=['word', 'count'])"
   ]
  },
  {
   "cell_type": "code",
   "execution_count": 24,
   "id": "93e99a6b",
   "metadata": {
    "execution": {
     "iopub.execute_input": "2024-04-12T06:51:07.916938Z",
     "iopub.status.busy": "2024-04-12T06:51:07.916386Z",
     "iopub.status.idle": "2024-04-12T06:51:07.923636Z",
     "shell.execute_reply": "2024-04-12T06:51:07.922745Z"
    },
    "papermill": {
     "duration": 0.028005,
     "end_time": "2024-04-12T06:51:07.925680",
     "exception": false,
     "start_time": "2024-04-12T06:51:07.897675",
     "status": "completed"
    },
    "tags": []
   },
   "outputs": [],
   "source": [
    "def plotwords(df,cnt=15):\n",
    "    df = df.sort_values(by='count', ascending=False)[:cnt]\n",
    "    plt.figure(figsize=(18, 6))\n",
    "    sns.barplot(x='word', y='count', data=df)\n",
    "    # Add labels to the bars\n",
    "    ax = plt.gca()\n",
    "    for p in ax.patches:\n",
    "        ax.text(p.get_x() + p.get_width() / 2., p.get_height(), '%d' % int(p.get_height()), \n",
    "                fontsize=12, color='black', ha='center', va='bottom')\n",
    "\n",
    "    # Customize plot\n",
    "    plt.xlabel('Word', fontsize=14)\n",
    "    plt.ylabel('Count', fontsize=14)\n",
    "    plt.xticks(fontsize=12)\n",
    "    plt.yticks(fontsize=12)\n",
    "\n",
    "    # Show plot\n",
    "    plt.tight_layout()\n",
    "    plt.show()"
   ]
  },
  {
   "cell_type": "markdown",
   "id": "dcf1ce99",
   "metadata": {
    "papermill": {
     "duration": 0.017674,
     "end_time": "2024-04-12T06:51:07.961085",
     "exception": false,
     "start_time": "2024-04-12T06:51:07.943411",
     "status": "completed"
    },
    "tags": []
   },
   "source": [
    "#### Top 15 stop words"
   ]
  },
  {
   "cell_type": "code",
   "execution_count": 25,
   "id": "489e70e1",
   "metadata": {
    "execution": {
     "iopub.execute_input": "2024-04-12T06:51:07.998702Z",
     "iopub.status.busy": "2024-04-12T06:51:07.998222Z",
     "iopub.status.idle": "2024-04-12T06:51:08.494243Z",
     "shell.execute_reply": "2024-04-12T06:51:08.493359Z"
    },
    "papermill": {
     "duration": 0.517346,
     "end_time": "2024-04-12T06:51:08.496475",
     "exception": false,
     "start_time": "2024-04-12T06:51:07.979129",
     "status": "completed"
    },
    "tags": []
   },
   "outputs": [
    {
     "data": {
      "image/png": "[encoded data removed]",
      "text/plain": [
       "<Figure size 1800x600 with 1 Axes>"
      ]
     },
     "metadata": {},
     "output_type": "display_data"
    }
   ],
   "source": [
    "plotwords(stop_words_cnt)"
   ]
  },
  {
   "cell_type": "markdown",
   "id": "591a4f46",
   "metadata": {
    "papermill": {
     "duration": 0.018778,
     "end_time": "2024-04-12T06:51:08.534652",
     "exception": false,
     "start_time": "2024-04-12T06:51:08.515874",
     "status": "completed"
    },
    "tags": []
   },
   "source": [
    "#### Top 15 non-stop words"
   ]
  },
  {
   "cell_type": "code",
   "execution_count": 26,
   "id": "2f137266",
   "metadata": {
    "execution": {
     "iopub.execute_input": "2024-04-12T06:51:08.573192Z",
     "iopub.status.busy": "2024-04-12T06:51:08.572870Z",
     "iopub.status.idle": "2024-04-12T06:51:08.917442Z",
     "shell.execute_reply": "2024-04-12T06:51:08.916521Z"
    },
    "papermill": {
     "duration": 0.366346,
     "end_time": "2024-04-12T06:51:08.919634",
     "exception": false,
     "start_time": "2024-04-12T06:51:08.553288",
     "status": "completed"
    },
    "tags": []
   },
   "outputs": [
    {
     "data": {
      "image/png": "[encoded data removed]",
      "text/plain": [
       "<Figure size 1800x600 with 1 Axes>"
      ]
     },
     "metadata": {},
     "output_type": "display_data"
    }
   ],
   "source": [
    "plotwords(nonstop_words_cnt)"
   ]
  },
  {
   "cell_type": "markdown",
   "id": "c5e24e21",
   "metadata": {
    "papermill": {
     "duration": 0.018958,
     "end_time": "2024-04-12T06:51:08.959239",
     "exception": false,
     "start_time": "2024-04-12T06:51:08.940281",
     "status": "completed"
    },
    "tags": []
   },
   "source": [
    "#### Train-val split"
   ]
  },
  {
   "cell_type": "code",
   "execution_count": 27,
   "id": "07bb7dfe",
   "metadata": {
    "execution": {
     "iopub.execute_input": "2024-04-12T06:51:08.998594Z",
     "iopub.status.busy": "2024-04-12T06:51:08.998321Z",
     "iopub.status.idle": "2024-04-12T06:51:09.006929Z",
     "shell.execute_reply": "2024-04-12T06:51:09.006080Z"
    },
    "papermill": {
     "duration": 0.030459,
     "end_time": "2024-04-12T06:51:09.008831",
     "exception": false,
     "start_time": "2024-04-12T06:51:08.978372",
     "status": "completed"
    },
    "tags": []
   },
   "outputs": [],
   "source": [
    "from sklearn.model_selection import train_test_split\n",
    "train_sentences, val_sentences, train_labels, val_labels = train_test_split(train_df[\"text\"].to_numpy(),\n",
    "                                                                            train_df[\"target\"].to_numpy(),\n",
    "                                                                            test_size=0.1,\n",
    "                                                                            random_state=42) "
   ]
  },
  {
   "cell_type": "code",
   "execution_count": 28,
   "id": "b0ec6af7",
   "metadata": {
    "execution": {
     "iopub.execute_input": "2024-04-12T06:51:09.048231Z",
     "iopub.status.busy": "2024-04-12T06:51:09.047963Z",
     "iopub.status.idle": "2024-04-12T06:51:09.053426Z",
     "shell.execute_reply": "2024-04-12T06:51:09.052629Z"
    },
    "papermill": {
     "duration": 0.027342,
     "end_time": "2024-04-12T06:51:09.055364",
     "exception": false,
     "start_time": "2024-04-12T06:51:09.028022",
     "status": "completed"
    },
    "tags": []
   },
   "outputs": [
    {
     "data": {
      "text/plain": [
       "array([\"'McFadden Reportedly to Test Hamstring Thursday' via @TeamStream http://t.co/jWq4KvJH2j\",\n",
       "       'w--=-=-=-[ NEMA warns Nigerians to prepare for drought http://t.co/5uoOPhSqU3',\n",
       "       \"When I was cooking earlier I got electrocuted some crucial ?????? now I'm psychic lol\",\n",
       "       ...,\n",
       "       'Omron HEM-712C Automatic Blood Pressure Monitor STANDARD AND LARGE BP CUFFS http://t.co/gJBAInQWN9 http://t.co/jPhgpL1c5x',\n",
       "       'Officials say a quarantine is in place at an Alabama home over a possible Ebola case after developing symptoms... http://t.co/rqKK15uhEY',\n",
       "       'I moved to England five years ago today. What a whirlwind of time it has been! http://t.co/eaSlGeA1B7'],\n",
       "      dtype=object)"
      ]
     },
     "execution_count": 28,
     "metadata": {},
     "output_type": "execute_result"
    }
   ],
   "source": [
    "train_sentences"
   ]
  },
  {
   "cell_type": "markdown",
   "id": "7dc1fc1b",
   "metadata": {
    "papermill": {
     "duration": 0.018849,
     "end_time": "2024-04-12T06:51:09.093294",
     "exception": false,
     "start_time": "2024-04-12T06:51:09.074445",
     "status": "completed"
    },
    "tags": []
   },
   "source": [
    "#### Vectorization and Embeddings"
   ]
  },
  {
   "cell_type": "code",
   "execution_count": 29,
   "id": "1fa9ad34",
   "metadata": {
    "execution": {
     "iopub.execute_input": "2024-04-12T06:51:09.133131Z",
     "iopub.status.busy": "2024-04-12T06:51:09.132855Z",
     "iopub.status.idle": "2024-04-12T06:51:09.147099Z",
     "shell.execute_reply": "2024-04-12T06:51:09.146232Z"
    },
    "papermill": {
     "duration": 0.036658,
     "end_time": "2024-04-12T06:51:09.148960",
     "exception": false,
     "start_time": "2024-04-12T06:51:09.112302",
     "status": "completed"
    },
    "tags": []
   },
   "outputs": [
    {
     "data": {
      "text/plain": [
       "15"
      ]
     },
     "execution_count": 29,
     "metadata": {},
     "output_type": "execute_result"
    }
   ],
   "source": [
    "# average words\n",
    "avg_words = round(train_df[['char_len', 'word_len']][train_df.target==1].describe()['word_len']['mean'])\n",
    "avg_words"
   ]
  },
  {
   "cell_type": "code",
   "execution_count": 30,
   "id": "15ca5a6d",
   "metadata": {
    "execution": {
     "iopub.execute_input": "2024-04-12T06:51:09.190844Z",
     "iopub.status.busy": "2024-04-12T06:51:09.190302Z",
     "iopub.status.idle": "2024-04-12T06:51:28.519434Z",
     "shell.execute_reply": "2024-04-12T06:51:28.518402Z"
    },
    "papermill": {
     "duration": 19.353683,
     "end_time": "2024-04-12T06:51:28.521836",
     "exception": false,
     "start_time": "2024-04-12T06:51:09.168153",
     "status": "completed"
    },
    "tags": []
   },
   "outputs": [
    {
     "name": "stderr",
     "output_type": "stream",
     "text": [
      "2024-04-12 06:51:12.578811: E external/local_xla/xla/stream_executor/cuda/cuda_dnn.cc:9261] Unable to register cuDNN factory: Attempting to register factory for plugin cuDNN when one has already been registered\n",
      "2024-04-12 06:51:12.578929: E external/local_xla/xla/stream_executor/cuda/cuda_fft.cc:607] Unable to register cuFFT factory: Attempting to register factory for plugin cuFFT when one has already been registered\n",
      "2024-04-12 06:51:12.853783: E external/local_xla/xla/stream_executor/cuda/cuda_blas.cc:1515] Unable to register cuBLAS factory: Attempting to register factory for plugin cuBLAS when one has already been registered\n"
     ]
    }
   ],
   "source": [
    "import tensorflow as tf\n",
    "from tensorflow.keras.layers import TextVectorization\n",
    "max_vocab_length = 10000\n",
    "text_vectorizer = TextVectorization(max_tokens=max_vocab_length,\n",
    "                                    output_mode=\"int\",\n",
    "                                    output_sequence_length=avg_words)"
   ]
  },
  {
   "cell_type": "code",
   "execution_count": 31,
   "id": "7ed9b10c",
   "metadata": {
    "execution": {
     "iopub.execute_input": "2024-04-12T06:51:28.562785Z",
     "iopub.status.busy": "2024-04-12T06:51:28.562215Z",
     "iopub.status.idle": "2024-04-12T06:51:28.785497Z",
     "shell.execute_reply": "2024-04-12T06:51:28.784658Z"
    },
    "papermill": {
     "duration": 0.246118,
     "end_time": "2024-04-12T06:51:28.787972",
     "exception": false,
     "start_time": "2024-04-12T06:51:28.541854",
     "status": "completed"
    },
    "tags": []
   },
   "outputs": [],
   "source": [
    "text_vectorizer.adapt(train_sentences)"
   ]
  },
  {
   "cell_type": "code",
   "execution_count": 32,
   "id": "df90602c",
   "metadata": {
    "execution": {
     "iopub.execute_input": "2024-04-12T06:51:28.828138Z",
     "iopub.status.busy": "2024-04-12T06:51:28.827858Z",
     "iopub.status.idle": "2024-04-12T06:51:30.471749Z",
     "shell.execute_reply": "2024-04-12T06:51:30.470779Z"
    },
    "papermill": {
     "duration": 1.666687,
     "end_time": "2024-04-12T06:51:30.474388",
     "exception": false,
     "start_time": "2024-04-12T06:51:28.807701",
     "status": "completed"
    },
    "tags": []
   },
   "outputs": [
    {
     "name": "stdout",
     "output_type": "stream",
     "text": [
      "Just felt a huge earthquake. Stay safe everyone! #earthquake #safety \n",
      "\n",
      "tf.Tensor(\n",
      "[[  30 1200    3  848  221  586 2735  232  221  976    0    0    0    0\n",
      "     0]], shape=(1, 15), dtype=int64) \n",
      "\n",
      "---------------------------------------------------------------- \n",
      "\n",
      "Evacuation orders issued as wildfire approaches our neighborhood. Praying for everyone's safety. #wildfire #evacuation \n",
      "\n",
      "tf.Tensor(\n",
      "[[ 247 1268  897   26  157 2183  109 5017 9625   10 2486  976  157  247\n",
      "     0]], shape=(1, 15), dtype=int64) \n",
      "\n",
      "---------------------------------------------------------------- \n",
      "\n",
      "Massive flooding in the area. Roads are impassable. Stay indoors and stay safe. #flood #safety \n",
      "\n",
      "tf.Tensor(\n",
      "[[1647  246    4    2  402 1620   21    1  586 5331    7  586 2735  206\n",
      "   976]], shape=(1, 15), dtype=int64) \n",
      "\n",
      "---------------------------------------------------------------- \n",
      "\n"
     ]
    }
   ],
   "source": [
    "# Create sample sentence and tokenize it\n",
    "example_sentences = [\"Just felt a huge earthquake. Stay safe everyone! #earthquake #safety\",\n",
    "                     \"Evacuation orders issued as wildfire approaches our neighborhood. Praying for everyone's safety. #wildfire #evacuation\",\n",
    "                     \"Massive flooding in the area. Roads are impassable. Stay indoors and stay safe. #flood #safety\"]\n",
    "for s in example_sentences:\n",
    "    print(s,'\\n')\n",
    "    print(text_vectorizer([s]),'\\n')\n",
    "    print(\"-\"*64,'\\n')"
   ]
  },
  {
   "cell_type": "code",
   "execution_count": 33,
   "id": "21b7c83e",
   "metadata": {
    "execution": {
     "iopub.execute_input": "2024-04-12T06:51:30.516381Z",
     "iopub.status.busy": "2024-04-12T06:51:30.516071Z",
     "iopub.status.idle": "2024-04-12T06:51:30.525660Z",
     "shell.execute_reply": "2024-04-12T06:51:30.524619Z"
    },
    "papermill": {
     "duration": 0.031814,
     "end_time": "2024-04-12T06:51:30.527591",
     "exception": false,
     "start_time": "2024-04-12T06:51:30.495777",
     "status": "completed"
    },
    "tags": []
   },
   "outputs": [
    {
     "name": "stderr",
     "output_type": "stream",
     "text": [
      "/opt/conda/lib/python3.10/site-packages/keras/src/layers/core/embedding.py:81: UserWarning: Do not pass an `input_shape`/`input_dim` argument to a layer. When using Sequential models, prefer using an `Input(shape)` object as the first layer in the model instead.\n",
      "  super().__init__(**kwargs)\n"
     ]
    }
   ],
   "source": [
    "tf.random.set_seed(42)\n",
    "from tensorflow.keras import layers\n",
    "\n",
    "embedding = layers.Embedding(input_dim=max_vocab_length,\n",
    "                             output_dim=128,\n",
    "                             embeddings_initializer=\"uniform\",\n",
    "                             input_shape=(avg_words,),\n",
    "                             name=\"embedding_1\") "
   ]
  },
  {
   "cell_type": "code",
   "execution_count": 34,
   "id": "48f7f746",
   "metadata": {
    "execution": {
     "iopub.execute_input": "2024-04-12T06:51:30.567702Z",
     "iopub.status.busy": "2024-04-12T06:51:30.567408Z",
     "iopub.status.idle": "2024-04-12T06:51:31.577001Z",
     "shell.execute_reply": "2024-04-12T06:51:31.575343Z"
    },
    "papermill": {
     "duration": 1.031829,
     "end_time": "2024-04-12T06:51:31.579169",
     "exception": false,
     "start_time": "2024-04-12T06:51:30.547340",
     "status": "completed"
    },
    "tags": []
   },
   "outputs": [
    {
     "name": "stdout",
     "output_type": "stream",
     "text": [
      "Just felt a huge earthquake. Stay safe everyone! #earthquake #safety \n",
      "\n",
      "tf.Tensor(\n",
      "[[[ 0.00450604  0.02877844  0.02428457 ...  0.02021216 -0.03224035\n",
      "    0.04560881]\n",
      "  [-0.03286411 -0.04903897  0.00030058 ...  0.00575603 -0.01309697\n",
      "   -0.01824504]\n",
      "  [-0.0220649   0.03031768 -0.0156626  ... -0.00161445  0.03883393\n",
      "    0.01512024]\n",
      "  ...\n",
      "  [-0.03483542  0.04884103  0.01103633 ...  0.02590649  0.01993194\n",
      "    0.04027212]\n",
      "  [-0.03483542  0.04884103  0.01103633 ...  0.02590649  0.01993194\n",
      "    0.04027212]\n",
      "  [-0.03483542  0.04884103  0.01103633 ...  0.02590649  0.01993194\n",
      "    0.04027212]]], shape=(1, 15, 128), dtype=float32) \n",
      "\n",
      "---------------------------------------------------------------- \n",
      "\n",
      "Evacuation orders issued as wildfire approaches our neighborhood. Praying for everyone's safety. #wildfire #evacuation \n",
      "\n",
      "tf.Tensor(\n",
      "[[[ 0.00989012  0.01062776  0.04161963 ... -0.03713923 -0.00054854\n",
      "   -0.03291792]\n",
      "  [-0.03655046  0.0366486  -0.0404898  ... -0.02331482 -0.02794393\n",
      "    0.00165013]\n",
      "  [ 0.01435233 -0.01160953  0.03654495 ... -0.01861279  0.03283951\n",
      "   -0.04025949]\n",
      "  ...\n",
      "  [ 0.02096403 -0.0241197  -0.02111655 ...  0.01317861  0.01501422\n",
      "    0.03209705]\n",
      "  [ 0.00989012  0.01062776  0.04161963 ... -0.03713923 -0.00054854\n",
      "   -0.03291792]\n",
      "  [-0.03483542  0.04884103  0.01103633 ...  0.02590649  0.01993194\n",
      "    0.04027212]]], shape=(1, 15, 128), dtype=float32) \n",
      "\n",
      "---------------------------------------------------------------- \n",
      "\n",
      "Massive flooding in the area. Roads are impassable. Stay indoors and stay safe. #flood #safety \n",
      "\n",
      "tf.Tensor(\n",
      "[[[ 3.64585854e-02  3.63926776e-02  3.83145250e-02 ...  4.60267179e-02\n",
      "   -1.61074027e-02  1.49915107e-02]\n",
      "  [ 4.83975448e-02  2.14809068e-02  1.66793130e-02 ...  4.16299589e-02\n",
      "   -1.19206905e-02 -4.27302010e-02]\n",
      "  [ 4.93633747e-03 -1.43811330e-02  4.75146808e-02 ... -3.23963314e-02\n",
      "   -3.78763303e-02  3.09450552e-03]\n",
      "  ...\n",
      "  [ 4.03793789e-02 -2.19925772e-02 -3.64837535e-02 ... -3.46047804e-03\n",
      "    1.92869566e-02 -3.14571261e-02]\n",
      "  [-1.35290995e-02  2.80441158e-02  9.04272869e-03 ... -6.45406544e-05\n",
      "    2.74854042e-02  3.75343896e-02]\n",
      "  [-1.70788169e-02  1.12504475e-02  2.95142271e-02 ...  1.28102414e-02\n",
      "   -1.04719400e-03  1.91877820e-02]]], shape=(1, 15, 128), dtype=float32) \n",
      "\n",
      "---------------------------------------------------------------- \n",
      "\n"
     ]
    }
   ],
   "source": [
    "for s in example_sentences:\n",
    "    print(s,'\\n')\n",
    "    print(embedding(text_vectorizer([s])),'\\n')\n",
    "    print(\"-\"*64,'\\n')"
   ]
  },
  {
   "cell_type": "code",
   "execution_count": null,
   "id": "8a2250a0",
   "metadata": {
    "execution": {
     "iopub.execute_input": "2024-04-12T06:38:57.841193Z",
     "iopub.status.busy": "2024-04-12T06:38:57.840337Z",
     "iopub.status.idle": "2024-04-12T06:38:57.861895Z",
     "shell.execute_reply": "2024-04-12T06:38:57.860934Z",
     "shell.execute_reply.started": "2024-04-12T06:38:57.841161Z"
    },
    "papermill": {
     "duration": 0.019983,
     "end_time": "2024-04-12T06:51:31.619528",
     "exception": false,
     "start_time": "2024-04-12T06:51:31.599545",
     "status": "completed"
    },
    "tags": []
   },
   "outputs": [],
   "source": []
  },
  {
   "cell_type": "markdown",
   "id": "15ae5fcd",
   "metadata": {
    "papermill": {
     "duration": 0.019488,
     "end_time": "2024-04-12T06:51:31.658956",
     "exception": false,
     "start_time": "2024-04-12T06:51:31.639468",
     "status": "completed"
    },
    "tags": []
   },
   "source": [
    "### Modeling experiments"
   ]
  },
  {
   "cell_type": "code",
   "execution_count": null,
   "id": "f876d8b2",
   "metadata": {
    "execution": {
     "iopub.execute_input": "2024-04-12T06:47:38.676295Z",
     "iopub.status.busy": "2024-04-12T06:47:38.675868Z",
     "iopub.status.idle": "2024-04-12T06:47:38.683095Z",
     "shell.execute_reply": "2024-04-12T06:47:38.681978Z",
     "shell.execute_reply.started": "2024-04-12T06:47:38.676266Z"
    },
    "papermill": {
     "duration": 0.019652,
     "end_time": "2024-04-12T06:51:31.698251",
     "exception": false,
     "start_time": "2024-04-12T06:51:31.678599",
     "status": "completed"
    },
    "tags": []
   },
   "outputs": [],
   "source": []
  },
  {
   "cell_type": "code",
   "execution_count": 35,
   "id": "d1ed5501",
   "metadata": {
    "execution": {
     "iopub.execute_input": "2024-04-12T06:51:31.739486Z",
     "iopub.status.busy": "2024-04-12T06:51:31.739196Z",
     "iopub.status.idle": "2024-04-12T06:51:31.961536Z",
     "shell.execute_reply": "2024-04-12T06:51:31.960664Z"
    },
    "papermill": {
     "duration": 0.245357,
     "end_time": "2024-04-12T06:51:31.963490",
     "exception": false,
     "start_time": "2024-04-12T06:51:31.718133",
     "status": "completed"
    },
    "tags": []
   },
   "outputs": [
    {
     "data": {
      "text/html": [
       "<style>#sk-container-id-1 {color: black;background-color: white;}#sk-container-id-1 pre{padding: 0;}#sk-container-id-1 div.sk-toggleable {background-color: white;}#sk-container-id-1 label.sk-toggleable__label {cursor: pointer;display: block;width: 100%;margin-bottom: 0;padding: 0.3em;box-sizing: border-box;text-align: center;}#sk-container-id-1 label.sk-toggleable__label-arrow:before {content: \"▸\";float: left;margin-right: 0.25em;color: #696969;}#sk-container-id-1 label.sk-toggleable__label-arrow:hover:before {color: black;}#sk-container-id-1 div.sk-estimator:hover label.sk-toggleable__label-arrow:before {color: black;}#sk-container-id-1 div.sk-toggleable__content {max-height: 0;max-width: 0;overflow: hidden;text-align: left;background-color: #f0f8ff;}#sk-container-id-1 div.sk-toggleable__content pre {margin: 0.2em;color: black;border-radius: 0.25em;background-color: #f0f8ff;}#sk-container-id-1 input.sk-toggleable__control:checked~div.sk-toggleable__content {max-height: 200px;max-width: 100%;overflow: auto;}#sk-container-id-1 input.sk-toggleable__control:checked~label.sk-toggleable__label-arrow:before {content: \"▾\";}#sk-container-id-1 div.sk-estimator input.sk-toggleable__control:checked~label.sk-toggleable__label {background-color: #d4ebff;}#sk-container-id-1 div.sk-label input.sk-toggleable__control:checked~label.sk-toggleable__label {background-color: #d4ebff;}#sk-container-id-1 input.sk-hidden--visually {border: 0;clip: rect(1px 1px 1px 1px);clip: rect(1px, 1px, 1px, 1px);height: 1px;margin: -1px;overflow: hidden;padding: 0;position: absolute;width: 1px;}#sk-container-id-1 div.sk-estimator {font-family: monospace;background-color: #f0f8ff;border: 1px dotted black;border-radius: 0.25em;box-sizing: border-box;margin-bottom: 0.5em;}#sk-container-id-1 div.sk-estimator:hover {background-color: #d4ebff;}#sk-container-id-1 div.sk-parallel-item::after {content: \"\";width: 100%;border-bottom: 1px solid gray;flex-grow: 1;}#sk-container-id-1 div.sk-label:hover label.sk-toggleable__label {background-color: #d4ebff;}#sk-container-id-1 div.sk-serial::before {content: \"\";position: absolute;border-left: 1px solid gray;box-sizing: border-box;top: 0;bottom: 0;left: 50%;z-index: 0;}#sk-container-id-1 div.sk-serial {display: flex;flex-direction: column;align-items: center;background-color: white;padding-right: 0.2em;padding-left: 0.2em;position: relative;}#sk-container-id-1 div.sk-item {position: relative;z-index: 1;}#sk-container-id-1 div.sk-parallel {display: flex;align-items: stretch;justify-content: center;background-color: white;position: relative;}#sk-container-id-1 div.sk-item::before, #sk-container-id-1 div.sk-parallel-item::before {content: \"\";position: absolute;border-left: 1px solid gray;box-sizing: border-box;top: 0;bottom: 0;left: 50%;z-index: -1;}#sk-container-id-1 div.sk-parallel-item {display: flex;flex-direction: column;z-index: 1;position: relative;background-color: white;}#sk-container-id-1 div.sk-parallel-item:first-child::after {align-self: flex-end;width: 50%;}#sk-container-id-1 div.sk-parallel-item:last-child::after {align-self: flex-start;width: 50%;}#sk-container-id-1 div.sk-parallel-item:only-child::after {width: 0;}#sk-container-id-1 div.sk-dashed-wrapped {border: 1px dashed gray;margin: 0 0.4em 0.5em 0.4em;box-sizing: border-box;padding-bottom: 0.4em;background-color: white;}#sk-container-id-1 div.sk-label label {font-family: monospace;font-weight: bold;display: inline-block;line-height: 1.2em;}#sk-container-id-1 div.sk-label-container {text-align: center;}#sk-container-id-1 div.sk-container {/* jupyter's `normalize.less` sets `[hidden] { display: none; }` but bootstrap.min.css set `[hidden] { display: none !important; }` so we also need the `!important` here to be able to override the default hidden behavior on the sphinx rendered scikit-learn.org. See: https://github.com/scikit-learn/scikit-learn/issues/21755 */display: inline-block !important;position: relative;}#sk-container-id-1 div.sk-text-repr-fallback {display: none;}</style><div id=\"sk-container-id-1\" class=\"sk-top-container\"><div class=\"sk-text-repr-fallback\"><pre>Pipeline(steps=[(&#x27;tfidf&#x27;, TfidfVectorizer()), (&#x27;clf&#x27;, MultinomialNB())])</pre><b>In a Jupyter environment, please rerun this cell to show the HTML representation or trust the notebook. <br />On GitHub, the HTML representation is unable to render, please try loading this page with nbviewer.org.</b></div><div class=\"sk-container\" hidden><div class=\"sk-item sk-dashed-wrapped\"><div class=\"sk-label-container\"><div class=\"sk-label sk-toggleable\"><input class=\"sk-toggleable__control sk-hidden--visually\" id=\"sk-estimator-id-1\" type=\"checkbox\" ><label for=\"sk-estimator-id-1\" class=\"sk-toggleable__label sk-toggleable__label-arrow\">Pipeline</label><div class=\"sk-toggleable__content\"><pre>Pipeline(steps=[(&#x27;tfidf&#x27;, TfidfVectorizer()), (&#x27;clf&#x27;, MultinomialNB())])</pre></div></div></div><div class=\"sk-serial\"><div class=\"sk-item\"><div class=\"sk-estimator sk-toggleable\"><input class=\"sk-toggleable__control sk-hidden--visually\" id=\"sk-estimator-id-2\" type=\"checkbox\" ><label for=\"sk-estimator-id-2\" class=\"sk-toggleable__label sk-toggleable__label-arrow\">TfidfVectorizer</label><div class=\"sk-toggleable__content\"><pre>TfidfVectorizer()</pre></div></div></div><div class=\"sk-item\"><div class=\"sk-estimator sk-toggleable\"><input class=\"sk-toggleable__control sk-hidden--visually\" id=\"sk-estimator-id-3\" type=\"checkbox\" ><label for=\"sk-estimator-id-3\" class=\"sk-toggleable__label sk-toggleable__label-arrow\">MultinomialNB</label><div class=\"sk-toggleable__content\"><pre>MultinomialNB()</pre></div></div></div></div></div></div></div>"
      ],
      "text/plain": [
       "Pipeline(steps=[('tfidf', TfidfVectorizer()), ('clf', MultinomialNB())])"
      ]
     },
     "execution_count": 35,
     "metadata": {},
     "output_type": "execute_result"
    }
   ],
   "source": [
    "from sklearn.feature_extraction.text import TfidfVectorizer\n",
    "from sklearn.naive_bayes import MultinomialNB\n",
    "from sklearn.pipeline import Pipeline\n",
    "\n",
    "model_one = Pipeline([\n",
    "                    (\"tfidf\", TfidfVectorizer()),\n",
    "                    (\"clf\", MultinomialNB())\n",
    "])\n",
    "\n",
    "model_one.fit(train_sentences, train_labels)"
   ]
  },
  {
   "cell_type": "code",
   "execution_count": 36,
   "id": "144540ca",
   "metadata": {
    "execution": {
     "iopub.execute_input": "2024-04-12T06:51:32.004859Z",
     "iopub.status.busy": "2024-04-12T06:51:32.004274Z",
     "iopub.status.idle": "2024-04-12T06:51:32.026856Z",
     "shell.execute_reply": "2024-04-12T06:51:32.025949Z"
    },
    "papermill": {
     "duration": 0.045072,
     "end_time": "2024-04-12T06:51:32.028717",
     "exception": false,
     "start_time": "2024-04-12T06:51:31.983645",
     "status": "completed"
    },
    "tags": []
   },
   "outputs": [
    {
     "name": "stdout",
     "output_type": "stream",
     "text": [
      "Our baseline model achieves an accuracy of: 77.82%\n"
     ]
    }
   ],
   "source": [
    "baseline_score = model_one.score(val_sentences, val_labels)\n",
    "print(f\"Our baseline model achieves an accuracy of: {baseline_score*100:.2f}%\")"
   ]
  },
  {
   "cell_type": "code",
   "execution_count": 37,
   "id": "27c17258",
   "metadata": {
    "execution": {
     "iopub.execute_input": "2024-04-12T06:51:32.069596Z",
     "iopub.status.busy": "2024-04-12T06:51:32.069346Z",
     "iopub.status.idle": "2024-04-12T06:51:32.087935Z",
     "shell.execute_reply": "2024-04-12T06:51:32.087074Z"
    },
    "papermill": {
     "duration": 0.041145,
     "end_time": "2024-04-12T06:51:32.089750",
     "exception": false,
     "start_time": "2024-04-12T06:51:32.048605",
     "status": "completed"
    },
    "tags": []
   },
   "outputs": [
    {
     "data": {
      "text/html": [
       "<div>\n",
       "<style scoped>\n",
       "    .dataframe tbody tr th:only-of-type {\n",
       "        vertical-align: middle;\n",
       "    }\n",
       "\n",
       "    .dataframe tbody tr th {\n",
       "        vertical-align: top;\n",
       "    }\n",
       "\n",
       "    .dataframe thead th {\n",
       "        text-align: right;\n",
       "    }\n",
       "</style>\n",
       "<table border=\"1\" class=\"dataframe\">\n",
       "  <thead>\n",
       "    <tr style=\"text-align: right;\">\n",
       "      <th></th>\n",
       "      <th>id</th>\n",
       "      <th>target</th>\n",
       "    </tr>\n",
       "  </thead>\n",
       "  <tbody>\n",
       "    <tr>\n",
       "      <th>0</th>\n",
       "      <td>0</td>\n",
       "      <td>0</td>\n",
       "    </tr>\n",
       "    <tr>\n",
       "      <th>1</th>\n",
       "      <td>2</td>\n",
       "      <td>0</td>\n",
       "    </tr>\n",
       "    <tr>\n",
       "      <th>2</th>\n",
       "      <td>3</td>\n",
       "      <td>0</td>\n",
       "    </tr>\n",
       "    <tr>\n",
       "      <th>3</th>\n",
       "      <td>9</td>\n",
       "      <td>0</td>\n",
       "    </tr>\n",
       "    <tr>\n",
       "      <th>4</th>\n",
       "      <td>11</td>\n",
       "      <td>0</td>\n",
       "    </tr>\n",
       "  </tbody>\n",
       "</table>\n",
       "</div>"
      ],
      "text/plain": [
       "   id  target\n",
       "0   0       0\n",
       "1   2       0\n",
       "2   3       0\n",
       "3   9       0\n",
       "4  11       0"
      ]
     },
     "execution_count": 37,
     "metadata": {},
     "output_type": "execute_result"
    }
   ],
   "source": [
    "sample_submission = pd.read_csv(\"/kaggle/input/nlp-getting-started/sample_submission.csv\")\n",
    "sample_submission.head()"
   ]
  },
  {
   "cell_type": "code",
   "execution_count": 38,
   "id": "4be31933",
   "metadata": {
    "execution": {
     "iopub.execute_input": "2024-04-12T06:51:32.132201Z",
     "iopub.status.busy": "2024-04-12T06:51:32.131939Z",
     "iopub.status.idle": "2024-04-12T06:51:32.136141Z",
     "shell.execute_reply": "2024-04-12T06:51:32.135275Z"
    },
    "papermill": {
     "duration": 0.027917,
     "end_time": "2024-04-12T06:51:32.138086",
     "exception": false,
     "start_time": "2024-04-12T06:51:32.110169",
     "status": "completed"
    },
    "tags": []
   },
   "outputs": [],
   "source": [
    "test_sentences = test_df[\"text\"].to_numpy()"
   ]
  },
  {
   "cell_type": "code",
   "execution_count": 39,
   "id": "abf9b7ef",
   "metadata": {
    "execution": {
     "iopub.execute_input": "2024-04-12T06:51:32.179966Z",
     "iopub.status.busy": "2024-04-12T06:51:32.179716Z",
     "iopub.status.idle": "2024-04-12T06:51:32.251390Z",
     "shell.execute_reply": "2024-04-12T06:51:32.250727Z"
    },
    "papermill": {
     "duration": 0.094531,
     "end_time": "2024-04-12T06:51:32.253245",
     "exception": false,
     "start_time": "2024-04-12T06:51:32.158714",
     "status": "completed"
    },
    "tags": []
   },
   "outputs": [],
   "source": [
    "sample_submission[\"target\"] = model_one.predict(test_sentences)"
   ]
  },
  {
   "cell_type": "code",
   "execution_count": 40,
   "id": "ee7dab27",
   "metadata": {
    "execution": {
     "iopub.execute_input": "2024-04-12T06:51:32.297544Z",
     "iopub.status.busy": "2024-04-12T06:51:32.297267Z",
     "iopub.status.idle": "2024-04-12T06:51:32.305070Z",
     "shell.execute_reply": "2024-04-12T06:51:32.304118Z"
    },
    "papermill": {
     "duration": 0.030815,
     "end_time": "2024-04-12T06:51:32.307078",
     "exception": false,
     "start_time": "2024-04-12T06:51:32.276263",
     "status": "completed"
    },
    "tags": []
   },
   "outputs": [
    {
     "data": {
      "text/html": [
       "<div>\n",
       "<style scoped>\n",
       "    .dataframe tbody tr th:only-of-type {\n",
       "        vertical-align: middle;\n",
       "    }\n",
       "\n",
       "    .dataframe tbody tr th {\n",
       "        vertical-align: top;\n",
       "    }\n",
       "\n",
       "    .dataframe thead th {\n",
       "        text-align: right;\n",
       "    }\n",
       "</style>\n",
       "<table border=\"1\" class=\"dataframe\">\n",
       "  <thead>\n",
       "    <tr style=\"text-align: right;\">\n",
       "      <th></th>\n",
       "      <th>id</th>\n",
       "      <th>target</th>\n",
       "    </tr>\n",
       "  </thead>\n",
       "  <tbody>\n",
       "    <tr>\n",
       "      <th>0</th>\n",
       "      <td>0</td>\n",
       "      <td>1</td>\n",
       "    </tr>\n",
       "    <tr>\n",
       "      <th>1</th>\n",
       "      <td>2</td>\n",
       "      <td>0</td>\n",
       "    </tr>\n",
       "    <tr>\n",
       "      <th>2</th>\n",
       "      <td>3</td>\n",
       "      <td>1</td>\n",
       "    </tr>\n",
       "    <tr>\n",
       "      <th>3</th>\n",
       "      <td>9</td>\n",
       "      <td>1</td>\n",
       "    </tr>\n",
       "    <tr>\n",
       "      <th>4</th>\n",
       "      <td>11</td>\n",
       "      <td>1</td>\n",
       "    </tr>\n",
       "  </tbody>\n",
       "</table>\n",
       "</div>"
      ],
      "text/plain": [
       "   id  target\n",
       "0   0       1\n",
       "1   2       0\n",
       "2   3       1\n",
       "3   9       1\n",
       "4  11       1"
      ]
     },
     "execution_count": 40,
     "metadata": {},
     "output_type": "execute_result"
    }
   ],
   "source": [
    "sample_submission.head()"
   ]
  },
  {
   "cell_type": "code",
   "execution_count": 41,
   "id": "daeed27b",
   "metadata": {
    "execution": {
     "iopub.execute_input": "2024-04-12T06:51:32.349307Z",
     "iopub.status.busy": "2024-04-12T06:51:32.349072Z",
     "iopub.status.idle": "2024-04-12T06:51:32.362927Z",
     "shell.execute_reply": "2024-04-12T06:51:32.361815Z"
    },
    "papermill": {
     "duration": 0.037188,
     "end_time": "2024-04-12T06:51:32.365317",
     "exception": false,
     "start_time": "2024-04-12T06:51:32.328129",
     "status": "completed"
    },
    "tags": []
   },
   "outputs": [
    {
     "data": {
      "text/html": [
       "<div>\n",
       "<style scoped>\n",
       "    .dataframe tbody tr th:only-of-type {\n",
       "        vertical-align: middle;\n",
       "    }\n",
       "\n",
       "    .dataframe tbody tr th {\n",
       "        vertical-align: top;\n",
       "    }\n",
       "\n",
       "    .dataframe thead th {\n",
       "        text-align: right;\n",
       "    }\n",
       "</style>\n",
       "<table border=\"1\" class=\"dataframe\">\n",
       "  <thead>\n",
       "    <tr style=\"text-align: right;\">\n",
       "      <th></th>\n",
       "      <th>id</th>\n",
       "      <th>target</th>\n",
       "    </tr>\n",
       "  </thead>\n",
       "  <tbody>\n",
       "    <tr>\n",
       "      <th>count</th>\n",
       "      <td>3263.000000</td>\n",
       "      <td>3263.000000</td>\n",
       "    </tr>\n",
       "    <tr>\n",
       "      <th>mean</th>\n",
       "      <td>5427.152927</td>\n",
       "      <td>0.292063</td>\n",
       "    </tr>\n",
       "    <tr>\n",
       "      <th>std</th>\n",
       "      <td>3146.427221</td>\n",
       "      <td>0.454781</td>\n",
       "    </tr>\n",
       "    <tr>\n",
       "      <th>min</th>\n",
       "      <td>0.000000</td>\n",
       "      <td>0.000000</td>\n",
       "    </tr>\n",
       "    <tr>\n",
       "      <th>25%</th>\n",
       "      <td>2683.000000</td>\n",
       "      <td>0.000000</td>\n",
       "    </tr>\n",
       "    <tr>\n",
       "      <th>50%</th>\n",
       "      <td>5500.000000</td>\n",
       "      <td>0.000000</td>\n",
       "    </tr>\n",
       "    <tr>\n",
       "      <th>75%</th>\n",
       "      <td>8176.000000</td>\n",
       "      <td>1.000000</td>\n",
       "    </tr>\n",
       "    <tr>\n",
       "      <th>max</th>\n",
       "      <td>10875.000000</td>\n",
       "      <td>1.000000</td>\n",
       "    </tr>\n",
       "  </tbody>\n",
       "</table>\n",
       "</div>"
      ],
      "text/plain": [
       "                 id       target\n",
       "count   3263.000000  3263.000000\n",
       "mean    5427.152927     0.292063\n",
       "std     3146.427221     0.454781\n",
       "min        0.000000     0.000000\n",
       "25%     2683.000000     0.000000\n",
       "50%     5500.000000     0.000000\n",
       "75%     8176.000000     1.000000\n",
       "max    10875.000000     1.000000"
      ]
     },
     "execution_count": 41,
     "metadata": {},
     "output_type": "execute_result"
    }
   ],
   "source": [
    "sample_submission.describe()"
   ]
  },
  {
   "cell_type": "code",
   "execution_count": 42,
   "id": "fa5cba52",
   "metadata": {
    "execution": {
     "iopub.execute_input": "2024-04-12T06:51:32.408172Z",
     "iopub.status.busy": "2024-04-12T06:51:32.407929Z",
     "iopub.status.idle": "2024-04-12T06:51:32.418545Z",
     "shell.execute_reply": "2024-04-12T06:51:32.417904Z"
    },
    "papermill": {
     "duration": 0.033841,
     "end_time": "2024-04-12T06:51:32.420414",
     "exception": false,
     "start_time": "2024-04-12T06:51:32.386573",
     "status": "completed"
    },
    "tags": []
   },
   "outputs": [],
   "source": [
    "sample_submission.to_csv(\"submission.csv\", index=False)"
   ]
  },
  {
   "cell_type": "code",
   "execution_count": null,
   "id": "fda5522b",
   "metadata": {
    "papermill": {
     "duration": 0.020584,
     "end_time": "2024-04-12T06:51:32.462051",
     "exception": false,
     "start_time": "2024-04-12T06:51:32.441467",
     "status": "completed"
    },
    "tags": []
   },
   "outputs": [],
   "source": []
  }
 ],
 "metadata": {
  "kaggle": {
   "accelerator": "nvidiaTeslaT4",
   "dataSources": [
    {
     "databundleVersionId": 869809,
     "sourceId": 17777,
     "sourceType": "competition"
    }
   ],
   "dockerImageVersionId": 30683,
   "isGpuEnabled": true,
   "isInternetEnabled": true,
   "language": "python",
   "sourceType": "notebook"
  },
  "kernelspec": {
   "display_name": "Python 3",
   "language": "python",
   "name": "python3"
  },
  "language_info": {
   "codemirror_mode": {
    "name": "ipython",
    "version": 3
   },
   "file_extension": ".py",
   "mimetype": "text/x-python",
   "name": "python",
   "nbconvert_exporter": "python",
   "pygments_lexer": "ipython3",
   "version": "3.10.13"
  },
  "papermill": {
   "default_parameters": {},
   "duration": 41.036242,
   "end_time": "2024-04-12T06:51:35.359945",
   "environment_variables": {},
   "exception": null,
   "input_path": "__notebook__.ipynb",
   "output_path": "__notebook__.ipynb",
   "parameters": {},
   "start_time": "2024-04-12T06:50:54.323703",
   "version": "2.5.0"
  }
 },
 "nbformat": 4,
 "nbformat_minor": 5
}
